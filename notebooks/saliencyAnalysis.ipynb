{
 "cells": [
  {
   "cell_type": "code",
   "execution_count": 1,
   "metadata": {},
   "outputs": [
    {
     "name": "stdout",
     "output_type": "stream",
     "text": [
      "c:\\Users\\mnnadi1\\Desktop\\Generative AI\\New folder\\Generative_AI_surfactants_molecules\n"
     ]
    }
   ],
   "source": [
    "import os\n",
    "\n",
    "os.chdir(\"../\")\n",
    "\n",
    "print(os.getcwd())"
   ]
  },
  {
   "cell_type": "code",
   "execution_count": 2,
   "metadata": {},
   "outputs": [],
   "source": [
    "import numpy as np\n",
    "import pandas as pd\n",
    "import matplotlib.pyplot as plt\n",
    "import torch\n",
    "import torch.nn.functional as F\n",
    "from logging import getLogger\n",
    "\n",
    "from rdkit import Chem\n",
    "from rdkit.Chem.Draw import rdMolDraw2D\n",
    "from rdkit.Chem import rdDepictor\n",
    "from chainer_chemistry.saliency.visualizer.base_visualizer import BaseVisualizer\n",
    "from chainer_chemistry.saliency.visualizer.visualizer_utils import red_blue_cmap, abs_max_scaler\n",
    "\n",
    "from src.GraphWisconsin.generate_graph_dataset import graph_dataset\n",
    "from src.GraphWisconsin.model_GNN import GCNReg"
   ]
  },
  {
   "cell_type": "code",
   "execution_count": 4,
   "metadata": {},
   "outputs": [],
   "source": [
    "class SaliencyVisualizer:\n",
    "    \n",
    "    def __init__(self, model_path, model_name, data_path):\n",
    "        self.model = self._load_model(model_path, model_name)\n",
    "        self.data_path = data_path\n",
    "\n",
    "    @staticmethod\n",
    "    def _load_model(model_path, model_name):\n",
    "        checkpoint = torch.load(f\"{model_path}/{model_name}\")\n",
    "        model = GCNReg(74, 256, 1, True)\n",
    "        model.load_state_dict(checkpoint['model_state_dict'])\n",
    "        return model\n",
    "\n",
    "    def visualize_saliency(self, file_path='./reports/saliency_R2'):\n",
    "        dat = pd.read_csv(self.data_path, header=None)\n",
    "        sml_exp = dat[0].to_list()\n",
    "        logCMC = [0] * len(sml_exp)\n",
    "\n",
    "        g_exp = graph_dataset(sml_exp, logCMC)\n",
    "\n",
    "        for test_id in range(len(sml_exp)):\n",
    "            sml = sml_exp[test_id]\n",
    "            cmc = logCMC[test_id]\n",
    "            test_g = g_exp[test_id][0]\n",
    "            n_feat = test_g.ndata['h'].numpy()\n",
    "            pred, grad = self.model(test_g)\n",
    "            pred = pred.cpu().detach().numpy().flatten()[0]\n",
    "            n_sal = grad.cpu().detach().numpy()\n",
    "            n_sal_sum_atom = np.sum(n_sal[:, 0:43] * n_feat[:, 0:43], axis=1)\n",
    "\n",
    "            visualizer = SmilesVisualizer()\n",
    "            scaler = abs_max_scaler\n",
    "            svg, _ = visualizer.visualize(\n",
    "                n_sal_sum_atom, sml,\n",
    "                save_filepath=f\"{file_path}/actualdata_row_{str(test_id + 1).zfill(3)}.png\",\n",
    "                visualize_ratio=1, bond_color=False, scaler=scaler,\n",
    "                legend=f\"{sml}, pred:{pred:.2f}\"\n",
    "            )\n",
    "            # Uncomment the next line if you want to display the SVG inline (e.g., in Jupyter)\n",
    "            #display(SVG(svg.replace('svg:', '')))\n",
    "            #save_filepath=f\"{file_path}/actualdata_row_{str(test_id + 1).zfill(3)}.png\"\n",
    "\n",
    "\n",
    "if __name__ == \"__main__\":\n",
    "    model_path = \".//models\"\n",
    "    model_name = \"GCN_early_stop//ep1000bs5lr0.005kf11hu256cvid5es.pth.tar\"\n",
    "    data_path = \".//data//test_more_dataNoinionc.csv                                                                         \"\n",
    "    \n",
    "    visualizer = SaliencyVisualizer(model_path, model_name, data_path)\n",
    "    visualizer.visualize_saliency(file_path='.')\n"
   ]
  },
  {
   "cell_type": "code",
   "execution_count": 5,
   "metadata": {},
   "outputs": [
    {
     "data": {
      "image/png": "[encoded data removed]",
      "text/plain": [
       "<Figure size 600x100 with 1 Axes>"
      ]
     },
     "metadata": {},
     "output_type": "display_data"
    }
   ],
   "source": [
    "import matplotlib.pyplot as plt\n",
    "\n",
    "def plot_colorbar(cmap_name='bwr'):\n",
    "    fig, ax = plt.subplots(figsize=(6, 1))\n",
    "    fig.subplots_adjust(bottom=0.5)\n",
    "\n",
    "    # Create a colormap\n",
    "    cmap = plt.get_cmap(cmap_name)\n",
    "\n",
    "    # Create a colorbar with custom settings\n",
    "    norm = plt.Normalize(-1, 1)  # Assuming your saliency values range from -1 to 1\n",
    "    cbar = fig.colorbar(plt.cm.ScalarMappable(norm=norm, cmap=cmap),\n",
    "                        cax=ax, orientation='horizontal')\n",
    "    cbar.set_label('Saliency Value')\n",
    "    plt.show()\n",
    "\n",
    "plot_colorbar('bwr')\n"
   ]
  },
  {
   "cell_type": "code",
   "execution_count": 6,
   "metadata": {},
   "outputs": [
    {
     "name": "stdout",
     "output_type": "stream",
     "text": [
      "c:\\Users\\mnnadi1\\Desktop\\Generative AI\\New folder\\Generative_AI_surfactants_molecules\n"
     ]
    }
   ],
   "source": [
    "print(os.getcwd())"
   ]
  },
  {
   "cell_type": "code",
   "execution_count": null,
   "metadata": {},
   "outputs": [],
   "source": []
  }
 ],
 "metadata": {
  "kernelspec": {
   "display_name": "MatML",
   "language": "python",
   "name": "python3"
  },
  "language_info": {
   "codemirror_mode": {
    "name": "ipython",
    "version": 3
   },
   "file_extension": ".py",
   "mimetype": "text/x-python",
   "name": "python",
   "nbconvert_exporter": "python",
   "pygments_lexer": "ipython3",
   "version": "3.11.4"
  }
 },
 "nbformat": 4,
 "nbformat_minor": 2
}
